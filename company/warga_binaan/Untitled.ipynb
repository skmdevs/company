{
 "cells": [
  {
   "cell_type": "code",
   "execution_count": 4,
   "id": "alert-scratch",
   "metadata": {},
   "outputs": [
    {
     "name": "stderr",
     "output_type": "stream",
     "text": [
      "b'Skipping line 6: expected 2 fields, saw 3\\nSkipping line 10: expected 2 fields, saw 3\\nSkipping line 17: expected 2 fields, saw 3\\nSkipping line 27: expected 2 fields, saw 3\\nSkipping line 55: expected 2 fields, saw 3\\nSkipping line 211: expected 2 fields, saw 3\\nSkipping line 225: expected 2 fields, saw 3\\nSkipping line 237: expected 2 fields, saw 4\\nSkipping line 252: expected 2 fields, saw 3\\nSkipping line 258: expected 2 fields, saw 3\\nSkipping line 275: expected 2 fields, saw 3\\nSkipping line 288: expected 2 fields, saw 3\\nSkipping line 326: expected 2 fields, saw 4\\nSkipping line 343: expected 2 fields, saw 3\\nSkipping line 389: expected 2 fields, saw 3\\n'\n"
     ]
    },
    {
     "data": {
      "text/html": [
       "<div>\n",
       "<style scoped>\n",
       "    .dataframe tbody tr th:only-of-type {\n",
       "        vertical-align: middle;\n",
       "    }\n",
       "\n",
       "    .dataframe tbody tr th {\n",
       "        vertical-align: top;\n",
       "    }\n",
       "\n",
       "    .dataframe thead th {\n",
       "        text-align: right;\n",
       "    }\n",
       "</style>\n",
       "<table border=\"1\" class=\"dataframe\">\n",
       "  <thead>\n",
       "    <tr style=\"text-align: right;\">\n",
       "      <th></th>\n",
       "      <th>No;No Reg Instansi;Nama;Pasal Kejahatan;Hukuman;Status</th>\n",
       "    </tr>\n",
       "  </thead>\n",
       "  <tbody>\n",
       "    <tr>\n",
       "      <th>1;B I 03/21;ANDY WINARTO</th>\n",
       "      <td>SE BIN -;Korupsi;15 tahun ;Aktif</td>\n",
       "    </tr>\n",
       "    <tr>\n",
       "      <th>2;B I 79/19;AGUS BHAKTI NUGROHO BIN NUR BADARUDIN;Korupsi;4 tahun ;Aktif</th>\n",
       "      <td>NaN</td>\n",
       "    </tr>\n",
       "    <tr>\n",
       "      <th>3;B I 80/19;ANJAR ASMARA BIN M. UMAR;Korupsi;4 tahun ;Aktif</th>\n",
       "      <td>NaN</td>\n",
       "    </tr>\n",
       "    <tr>\n",
       "      <th>4;A III 02/21;H. MUSTAFA BIN H. AHMAD;Korupsi;30 hari;Aktif</th>\n",
       "      <td>NaN</td>\n",
       "    </tr>\n",
       "    <tr>\n",
       "      <th>6;B.I 99/15;ANAS URBANINGRUM BIN .;Korupsi;8 tahun ;Aktif</th>\n",
       "      <td>NaN</td>\n",
       "    </tr>\n",
       "    <tr>\n",
       "      <th>...</th>\n",
       "      <td>...</td>\n",
       "    </tr>\n",
       "    <tr>\n",
       "      <th>378;B.I 31/16;WAWAN SOMANTRI BIN ENDANG (ALM);Korupsi;\"5 tahun</th>\n",
       "      <td>NaN</td>\n",
       "    </tr>\n",
       "    <tr>\n",
       "      <th>dan 5 tahun 6 bulan \";Aktif</th>\n",
       "      <td>NaN</td>\n",
       "    </tr>\n",
       "    <tr>\n",
       "      <th>379;B.I 111/17;DRS.SUHERWANTO BIN MASIKIN SAMSI UTOMO;Korupsi;7 tahun ;Aktif</th>\n",
       "      <td>NaN</td>\n",
       "    </tr>\n",
       "    <tr>\n",
       "      <th>380;B.I 08/17;SUGENG SUPRIJONO</th>\n",
       "      <td>SE BIN WAGIRAN;Korupsi;7 tahun ;Aktif</td>\n",
       "    </tr>\n",
       "    <tr>\n",
       "      <th>381;B.I 01/18;ACHMAD KUNTJORO BIN SUGENG SUPARI (ALM);Korupsi;10 tahun ;Aktif</th>\n",
       "      <td>NaN</td>\n",
       "    </tr>\n",
       "  </tbody>\n",
       "</table>\n",
       "<p>391 rows × 1 columns</p>\n",
       "</div>"
      ],
      "text/plain": [
       "                                                   No;No Reg Instansi;Nama;Pasal Kejahatan;Hukuman;Status\n",
       "1;B I 03/21;ANDY WINARTO                                             SE BIN -;Korupsi;15 tahun ;Aktif    \n",
       "2;B I 79/19;AGUS BHAKTI NUGROHO BIN NUR BADARUD...                                                NaN    \n",
       "3;B I 80/19;ANJAR ASMARA BIN M. UMAR;Korupsi;4 ...                                                NaN    \n",
       "4;A III 02/21;H. MUSTAFA BIN H. AHMAD;Korupsi;3...                                                NaN    \n",
       "6;B.I 99/15;ANAS URBANINGRUM BIN .;Korupsi;8 ta...                                                NaN    \n",
       "...                                                                                               ...    \n",
       "378;B.I 31/16;WAWAN SOMANTRI BIN ENDANG (ALM);K...                                                NaN    \n",
       "dan 5 tahun 6 bulan \";Aktif                                                                       NaN    \n",
       "379;B.I 111/17;DRS.SUHERWANTO BIN MASIKIN SAMSI...                                                NaN    \n",
       "380;B.I 08/17;SUGENG SUPRIJONO                                  SE BIN WAGIRAN;Korupsi;7 tahun ;Aktif    \n",
       "381;B.I 01/18;ACHMAD KUNTJORO BIN SUGENG SUPARI...                                                NaN    \n",
       "\n",
       "[391 rows x 1 columns]"
      ]
     },
     "execution_count": 4,
     "metadata": {},
     "output_type": "execute_result"
    }
   ],
   "source": [
    "import pandas as pd\n",
    "pd.read_csv('warga_binaan.csv', error_bad_lines=False)"
   ]
  },
  {
   "cell_type": "code",
   "execution_count": null,
   "id": "champion-hardware",
   "metadata": {},
   "outputs": [],
   "source": []
  }
 ],
 "metadata": {
  "kernelspec": {
   "display_name": "Python 3",
   "language": "python",
   "name": "python3"
  },
  "language_info": {
   "codemirror_mode": {
    "name": "ipython",
    "version": 3
   },
   "file_extension": ".py",
   "mimetype": "text/x-python",
   "name": "python",
   "nbconvert_exporter": "python",
   "pygments_lexer": "ipython3",
   "version": "3.8.5"
  }
 },
 "nbformat": 4,
 "nbformat_minor": 5
}
